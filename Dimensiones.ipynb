{
  "nbformat": 4,
  "nbformat_minor": 0,
  "metadata": {
    "colab": {
      "name": "Dimensiones.ipynb",
      "provenance": [],
      "authorship_tag": "ABX9TyNsvpDwwOZqG9ujGWTEasHm",
      "include_colab_link": true
    },
    "kernelspec": {
      "name": "python3",
      "display_name": "Python 3"
    },
    "language_info": {
      "name": "python"
    }
  },
  "cells": [
    {
      "cell_type": "markdown",
      "metadata": {
        "id": "view-in-github",
        "colab_type": "text"
      },
      "source": [
        "<a href=\"https://colab.research.google.com/github/ozguevara/cbutp/blob/main/Dimensiones.ipynb\" target=\"_parent\"><img src=\"https://colab.research.google.com/assets/colab-badge.svg\" alt=\"Open In Colab\"/></a>"
      ]
    },
    {
      "cell_type": "markdown",
      "metadata": {
        "id": "gq6OCGmYywwa"
      },
      "source": [
        "Entendiendo las dimensiones de los datos\n",
        "scalar -> un solo dato\n",
        "vector -> lista, vector, arreglo ( 1 dimension )\n",
        "Matriz -> 2 Dimensiones\n",
        "Tensor -> 3 o mas dimensiones"
      ]
    },
    {
      "cell_type": "code",
      "metadata": {
        "id": "Q_78HNxPyJt7"
      },
      "source": [
        "import numpy as np"
      ],
      "execution_count": null,
      "outputs": []
    },
    {
      "cell_type": "code",
      "metadata": {
        "colab": {
          "base_uri": "https://localhost:8080/"
        },
        "id": "ysmuvFmHyOtp",
        "outputId": "1c6f3a98-1928-4118-bff7-7669e45f17aa"
      },
      "source": [
        "x = np.array(42)\n",
        "print(x.shape)\n",
        "x.ndim"
      ],
      "execution_count": null,
      "outputs": [
        {
          "output_type": "stream",
          "text": [
            "()\n"
          ],
          "name": "stdout"
        },
        {
          "output_type": "execute_result",
          "data": {
            "text/plain": [
              "0"
            ]
          },
          "metadata": {
            "tags": []
          },
          "execution_count": 2
        }
      ]
    },
    {
      "cell_type": "code",
      "metadata": {
        "colab": {
          "base_uri": "https://localhost:8080/"
        },
        "id": "tGi0zmfpyX47",
        "outputId": "07fa003f-35da-4319-86a7-d81ae617e249"
      },
      "source": [
        "# Vector\n",
        "x = np.array([42,3,5,3,6,7])\n",
        "print(x.shape)\n",
        "x.ndim"
      ],
      "execution_count": null,
      "outputs": [
        {
          "output_type": "stream",
          "text": [
            "(6,)\n"
          ],
          "name": "stdout"
        },
        {
          "output_type": "execute_result",
          "data": {
            "text/plain": [
              "1"
            ]
          },
          "metadata": {
            "tags": []
          },
          "execution_count": 4
        }
      ]
    },
    {
      "cell_type": "markdown",
      "metadata": {
        "id": "9Us-Lqizyo-_"
      },
      "source": [
        "Matriz"
      ]
    },
    {
      "cell_type": "code",
      "metadata": {
        "colab": {
          "base_uri": "https://localhost:8080/"
        },
        "id": "YyXxEi-eyq2P",
        "outputId": "8db3e480-ea68-46e8-9314-dc9babea9e88"
      },
      "source": [
        "x = np.array([[43,3,5,3,6,7], [66,54,5,343,6,7]])\n",
        "print(x.shape)\n",
        "x.ndim"
      ],
      "execution_count": null,
      "outputs": [
        {
          "output_type": "stream",
          "text": [
            "(2, 6)\n"
          ],
          "name": "stdout"
        },
        {
          "output_type": "execute_result",
          "data": {
            "text/plain": [
              "2"
            ]
          },
          "metadata": {
            "tags": []
          },
          "execution_count": 6
        }
      ]
    },
    {
      "cell_type": "markdown",
      "metadata": {
        "id": "uKNA_r_m0T7R"
      },
      "source": [
        "Tensor"
      ]
    },
    {
      "cell_type": "code",
      "metadata": {
        "colab": {
          "base_uri": "https://localhost:8080/"
        },
        "id": "BnBwtFXn0WU0",
        "outputId": "3ee74449-a799-4c1f-97b6-80cb213f70f3"
      },
      "source": [
        "x = np.array([[[43,3,5,3,6,7], [66,54,5,343,6,7]], [[43,3,5,3,6,7], [66,54,5,343,6,7]], [[43,3,5,3,6,7], [66,54,5,343,6,7]], [[43,3,5,3,6,7], [66,54,5,343,6,7]]])\n",
        "print(x.shape)\n",
        "x.ndim"
      ],
      "execution_count": null,
      "outputs": [
        {
          "output_type": "stream",
          "text": [
            "(4, 2, 6)\n"
          ],
          "name": "stdout"
        },
        {
          "output_type": "execute_result",
          "data": {
            "text/plain": [
              "3"
            ]
          },
          "metadata": {
            "tags": []
          },
          "execution_count": 8
        }
      ]
    },
    {
      "cell_type": "code",
      "metadata": {
        "colab": {
          "base_uri": "https://localhost:8080/"
        },
        "id": "8zzrryVH0xbr",
        "outputId": "98bfd894-7b91-4b76-884b-b39f7cf59149"
      },
      "source": [
        "x = np.array([[0,1],\n",
        "         [2,3],\n",
        "         [4,5],\n",
        "         [6,7]\n",
        "         ])\n",
        "x.shape"
      ],
      "execution_count": null,
      "outputs": [
        {
          "output_type": "execute_result",
          "data": {
            "text/plain": [
              "(4, 2)"
            ]
          },
          "metadata": {
            "tags": []
          },
          "execution_count": 11
        }
      ]
    },
    {
      "cell_type": "code",
      "metadata": {
        "colab": {
          "base_uri": "https://localhost:8080/"
        },
        "id": "mEH5dTtn1Sbl",
        "outputId": "2949387c-4ea9-4703-f6da-8d1be2a2a768"
      },
      "source": [
        "x.reshape(8,1)"
      ],
      "execution_count": null,
      "outputs": [
        {
          "output_type": "execute_result",
          "data": {
            "text/plain": [
              "array([[0],\n",
              "       [1],\n",
              "       [2],\n",
              "       [3],\n",
              "       [4],\n",
              "       [5],\n",
              "       [6],\n",
              "       [7]])"
            ]
          },
          "metadata": {
            "tags": []
          },
          "execution_count": 21
        }
      ]
    },
    {
      "cell_type": "code",
      "metadata": {
        "colab": {
          "base_uri": "https://localhost:8080/"
        },
        "id": "2cGjDU_41XoG",
        "outputId": "36cb0e15-755f-4bd3-aea5-31d6ef318d86"
      },
      "source": [
        "x.reshape(2,4)"
      ],
      "execution_count": null,
      "outputs": [
        {
          "output_type": "execute_result",
          "data": {
            "text/plain": [
              "array([[0, 1, 2, 3],\n",
              "       [4, 5, 6, 7]])"
            ]
          },
          "metadata": {
            "tags": []
          },
          "execution_count": 19
        }
      ]
    },
    {
      "cell_type": "code",
      "metadata": {
        "colab": {
          "base_uri": "https://localhost:8080/"
        },
        "id": "m1Q-c6ik1s9L",
        "outputId": "e3c573c0-01fb-4122-e602-df2d70b6cf0d"
      },
      "source": [
        "# Haciendo lo mismo pero con transpuesta\n",
        "np.transpose(x)"
      ],
      "execution_count": null,
      "outputs": [
        {
          "output_type": "execute_result",
          "data": {
            "text/plain": [
              "array([[0, 2, 4, 6],\n",
              "       [1, 3, 5, 7]])"
            ]
          },
          "metadata": {
            "tags": []
          },
          "execution_count": 22
        }
      ]
    },
    {
      "cell_type": "code",
      "metadata": {
        "id": "SP0S1N1h171L",
        "colab": {
          "base_uri": "https://localhost:8080/"
        },
        "outputId": "a7ebe601-0110-4b0c-a36b-2dfa92550d7f"
      },
      "source": [
        "x.T"
      ],
      "execution_count": null,
      "outputs": [
        {
          "output_type": "execute_result",
          "data": {
            "text/plain": [
              "array([[0, 2, 4, 6],\n",
              "       [1, 3, 5, 7]])"
            ]
          },
          "metadata": {
            "tags": []
          },
          "execution_count": 23
        }
      ]
    }
  ]
}