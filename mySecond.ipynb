{
  "nbformat": 4,
  "nbformat_minor": 0,
  "metadata": {
    "colab": {
      "name": "mySecond.ipynb",
      "provenance": [],
      "authorship_tag": "ABX9TyPbEzhHan4G14jh/Ly3diL8",
      "include_colab_link": true
    },
    "kernelspec": {
      "name": "python3",
      "display_name": "Python 3"
    },
    "language_info": {
      "name": "python"
    }
  },
  "cells": [
    {
      "cell_type": "markdown",
      "metadata": {
        "id": "view-in-github",
        "colab_type": "text"
      },
      "source": [
        "<a href=\"https://colab.research.google.com/github/ozguevara/cbutp/blob/main/mySecond.ipynb\" target=\"_parent\"><img src=\"https://colab.research.google.com/assets/colab-badge.svg\" alt=\"Open In Colab\"/></a>"
      ]
    },
    {
      "cell_type": "code",
      "metadata": {
        "id": "land0WiOXiyo"
      },
      "source": [
        "import numpy as np\n",
        "from keras.datasets import imdb\n",
        "from keras import models, layers, optimizers"
      ],
      "execution_count": null,
      "outputs": []
    },
    {
      "cell_type": "code",
      "metadata": {
        "id": "9Py8vf75Y1bn"
      },
      "source": [
        "(train_data, train_labels), (test_data, test_labels) = imdb.load_data(num_words=10000)"
      ],
      "execution_count": null,
      "outputs": []
    },
    {
      "cell_type": "code",
      "metadata": {
        "id": "XD1OqksJZGL8"
      },
      "source": [
        "train_data[5]"
      ],
      "execution_count": null,
      "outputs": []
    },
    {
      "cell_type": "code",
      "metadata": {
        "id": "QsAUacjUZNms"
      },
      "source": [
        "word_index = imdb.get_word_index()\n",
        "word_index = dict([(value, key) for (key,value) in word_index.items()])"
      ],
      "execution_count": null,
      "outputs": []
    },
    {
      "cell_type": "code",
      "metadata": {
        "id": "lImIs243Zuez"
      },
      "source": [
        " word_index"
      ],
      "execution_count": null,
      "outputs": []
    },
    {
      "cell_type": "code",
      "metadata": {
        "id": "ZruecIl3Z3gb"
      },
      "source": [
        "for _ in train_data[0]:\n",
        "  print(word_index.get(_ -3))"
      ],
      "execution_count": null,
      "outputs": []
    },
    {
      "cell_type": "code",
      "metadata": {
        "id": "8KJdg2RsaWMH"
      },
      "source": [
        "def vectorizer(sequences, dim=10000):\n",
        "  results = np.zeros((len(sequences),dim))\n",
        "  for i, sequences in enumerate(sequences):\n",
        "    results[i, sequences]=1\n",
        "  return results"
      ],
      "execution_count": null,
      "outputs": []
    },
    {
      "cell_type": "code",
      "metadata": {
        "id": "HMNM_V6Da2gC"
      },
      "source": [
        "x_train = vectorizer(train_data)\n",
        "x_test = vectorizer(test_data)"
      ],
      "execution_count": null,
      "outputs": []
    },
    {
      "cell_type": "code",
      "metadata": {
        "id": "Tu-GbEPQbAwC",
        "colab": {
          "base_uri": "https://localhost:8080/"
        },
        "outputId": "bfecd8a9-c6c2-40e7-f4d5-cd281d054a31"
      },
      "source": [
        "x_train"
      ],
      "execution_count": null,
      "outputs": [
        {
          "output_type": "execute_result",
          "data": {
            "text/plain": [
              "array([[0., 1., 1., ..., 0., 0., 0.],\n",
              "       [0., 1., 1., ..., 0., 0., 0.],\n",
              "       [0., 1., 1., ..., 0., 0., 0.],\n",
              "       ...,\n",
              "       [0., 1., 1., ..., 0., 0., 0.],\n",
              "       [0., 1., 1., ..., 0., 0., 0.],\n",
              "       [0., 1., 1., ..., 0., 0., 0.]])"
            ]
          },
          "metadata": {
            "tags": []
          },
          "execution_count": 19
        }
      ]
    }
  ]
}